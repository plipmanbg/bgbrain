{
 "cells": [
  {
   "cell_type": "markdown",
   "metadata": {},
   "source": [
    "Interesting paper: http://cobweb.cs.uga.edu/~liao/PE_Final_Report.pdf\n",
    "\n",
    "PE header: https://drive.google.com/file/d/0B3_wGJkuWLytbnIxY1J5WUs4MEk/view\n",
    "PE header (MS): https://msdn.microsoft.com/en-us/library/ms809762.aspx\n",
    "\n",
    "https://github.com/erocarrera/pefile\n",
    "\n",
    "Adapted from:\n",
    "\n",
    "* https://www.randhome.io/blog/2016/07/16/machine-learning-for-malware-detection/\n",
    "* http://nbviewer.jupyter.org/github/ClickSecurity/data_hacking/blob/master/pefile_classification/pefile_classification.ipynb\n",
    "\n",
    "https://www.analyticsvidhya.com/blog/2015/06/tuning-random-forest-model/\n",
    "http://nbviewer.jupyter.org/github/ClickSecurity/data_hacking/blob/master/pefile_classification/pefile_classification.ipynb"
   ]
  },
  {
   "cell_type": "markdown",
   "metadata": {},
   "source": [
    "** SOURCE FILES **\n",
    "\n",
    "Original files (pefile_data.csv):\n",
    "\n",
    "* Good (various .EXEs from Win OSs)  6,502\n",
    "* Bad: 7,664\n",
    "\n",
    "New files (pefile_data_2.csv):\n",
    "\n",
    "* DLLs  7,001\n",
    "* New bad files 6,387"
   ]
  },
  {
   "cell_type": "code",
   "execution_count": 11,
   "metadata": {
    "collapsed": false
   },
   "outputs": [],
   "source": [
    "%matplotlib inline\n",
    "\n",
    "import sklearn.feature_extraction\n",
    "import numpy as np\n",
    "import pandas as pd\n",
    "import sklearn\n",
    "import sklearn.ensemble\n",
    "from sklearn.model_selection import train_test_split\n",
    "from sklearn.metrics import confusion_matrix\n",
    "from sklearn.ensemble import AdaBoostClassifier\n",
    "from sklearn.tree import DecisionTreeClassifier\n",
    "import matplotlib.pyplot as plt\n",
    "import pickle\n",
    "from sklearn.externals import joblib\n",
    "import os, warnings\n",
    "warnings.filterwarnings(\"ignore\", category=DeprecationWarning)\n",
    "\n",
    "plt.rcParams['font.size'] = 16\n",
    "plt.rcParams['figure.figsize'] = 8,5"
   ]
  },
  {
   "cell_type": "code",
   "execution_count": 12,
   "metadata": {
    "collapsed": false
   },
   "outputs": [
    {
     "name": "stderr",
     "output_type": "stream",
     "text": [
      "C:\\Users\\Paul Lipman\\Anaconda3\\lib\\site-packages\\IPython\\core\\interactiveshell.py:2723: DtypeWarning: Columns (13) have mixed types. Specify dtype option on import or set low_memory=False.\n",
      "  interactivity=interactivity, compiler=compiler, result=result)\n"
     ]
    }
   ],
   "source": [
    "data = pd.read_csv('pefile_data_combined_PLAY.csv', sep='|') # Read the CSV file into a Pandas dataframe"
   ]
  },
  {
   "cell_type": "code",
   "execution_count": 13,
   "metadata": {
    "collapsed": false
   },
   "outputs": [
    {
     "data": {
      "text/plain": [
       "['Name',\n",
       " 'md5',\n",
       " 'Machine',\n",
       " 'SizeOfOptionalHeader',\n",
       " 'Characteristics',\n",
       " 'MajorLinkerVersion',\n",
       " 'MinorLinkerVersion',\n",
       " 'SizeOfCode',\n",
       " 'SizeOfInitializedData',\n",
       " 'SizeOfUninitializedData',\n",
       " 'AddressOfEntryPoint',\n",
       " 'BaseOfCode',\n",
       " 'BaseOfData',\n",
       " 'ImageBase',\n",
       " 'SectionAlignment',\n",
       " 'FileAlignment',\n",
       " 'MajorOperatingSystemVersion',\n",
       " 'MinorOperatingSystemVersion',\n",
       " 'MajorImageVersion',\n",
       " 'MinorImageVersion',\n",
       " 'MajorSubsystemVersion',\n",
       " 'MinorSubsystemVersion',\n",
       " 'SizeOfImage',\n",
       " 'SizeOfHeaders',\n",
       " 'CheckSum',\n",
       " 'Subsystem',\n",
       " 'DllCharacteristics',\n",
       " 'SizeOfStackReserve',\n",
       " 'SizeOfStackCommit',\n",
       " 'SizeOfHeapReserve',\n",
       " 'SizeOfHeapCommit',\n",
       " 'LoaderFlags',\n",
       " 'NumberOfRvaAndSizes',\n",
       " 'SectionsNb',\n",
       " 'SectionsMeanEntropy',\n",
       " 'SectionsMinEntropy',\n",
       " 'SectionsMaxEntropy',\n",
       " 'SectionsMeanRawsize',\n",
       " 'SectionsMinRawsize',\n",
       " 'SectionMaxRawsize',\n",
       " 'SectionsMeanVirtualsize',\n",
       " 'SectionsMinVirtualsize',\n",
       " 'SectionMaxVirtualsize',\n",
       " 'ImportsNbDLL',\n",
       " 'ImportsNb',\n",
       " 'ImportsNbOrdinal',\n",
       " 'ExportNb',\n",
       " 'ResourcesNb',\n",
       " 'ResourcesMeanEntropy',\n",
       " 'ResourcesMinEntropy',\n",
       " 'ResourcesMaxEntropy',\n",
       " 'ResourcesMeanSize',\n",
       " 'ResourcesMinSize',\n",
       " 'ResourcesMaxSize',\n",
       " 'LoadConfigurationSize',\n",
       " 'VersionInformationSize',\n",
       " 'Status']"
      ]
     },
     "execution_count": 13,
     "metadata": {},
     "output_type": "execute_result"
    }
   ],
   "source": [
    "list(data)"
   ]
  },
  {
   "cell_type": "code",
   "execution_count": 14,
   "metadata": {
    "collapsed": false
   },
   "outputs": [
    {
     "data": {
      "text/plain": [
       "38591"
      ]
     },
     "execution_count": 14,
     "metadata": {},
     "output_type": "execute_result"
    }
   ],
   "source": [
    "data.shape[0]"
   ]
  },
  {
   "cell_type": "code",
   "execution_count": 15,
   "metadata": {
    "collapsed": false
   },
   "outputs": [
    {
     "data": {
      "text/html": [
       "<div>\n",
       "<table border=\"1\" class=\"dataframe\">\n",
       "  <thead>\n",
       "    <tr style=\"text-align: right;\">\n",
       "      <th></th>\n",
       "      <th>Name</th>\n",
       "      <th>md5</th>\n",
       "      <th>Machine</th>\n",
       "      <th>SizeOfOptionalHeader</th>\n",
       "      <th>Characteristics</th>\n",
       "      <th>MajorLinkerVersion</th>\n",
       "      <th>MinorLinkerVersion</th>\n",
       "      <th>SizeOfCode</th>\n",
       "      <th>SizeOfInitializedData</th>\n",
       "      <th>SizeOfUninitializedData</th>\n",
       "      <th>...</th>\n",
       "      <th>ResourcesNb</th>\n",
       "      <th>ResourcesMeanEntropy</th>\n",
       "      <th>ResourcesMinEntropy</th>\n",
       "      <th>ResourcesMaxEntropy</th>\n",
       "      <th>ResourcesMeanSize</th>\n",
       "      <th>ResourcesMinSize</th>\n",
       "      <th>ResourcesMaxSize</th>\n",
       "      <th>LoadConfigurationSize</th>\n",
       "      <th>VersionInformationSize</th>\n",
       "      <th>Status</th>\n",
       "    </tr>\n",
       "  </thead>\n",
       "  <tbody>\n",
       "    <tr>\n",
       "      <th>0</th>\n",
       "      <td>0008-64bit_Win7_Win8_Win81_Win10_R281.exe</td>\n",
       "      <td>571e83eda0c694f1c6634073d88ed8b6</td>\n",
       "      <td>332</td>\n",
       "      <td>224</td>\n",
       "      <td>271</td>\n",
       "      <td>6</td>\n",
       "      <td>0</td>\n",
       "      <td>69632</td>\n",
       "      <td>98304</td>\n",
       "      <td>0</td>\n",
       "      <td>...</td>\n",
       "      <td>24</td>\n",
       "      <td>0.0</td>\n",
       "      <td>2.058606</td>\n",
       "      <td>4.378816</td>\n",
       "      <td>0.0</td>\n",
       "      <td>62</td>\n",
       "      <td>52560</td>\n",
       "      <td>0</td>\n",
       "      <td>7</td>\n",
       "      <td>Clean</td>\n",
       "    </tr>\n",
       "    <tr>\n",
       "      <th>1</th>\n",
       "      <td>2c6f74be8013d301f80d0000b821d42f.ShellExperien...</td>\n",
       "      <td>11c97664d7aeaebff1387f8804acd0ba</td>\n",
       "      <td>34404</td>\n",
       "      <td>240</td>\n",
       "      <td>34</td>\n",
       "      <td>14</td>\n",
       "      <td>10</td>\n",
       "      <td>1159168</td>\n",
       "      <td>843776</td>\n",
       "      <td>0</td>\n",
       "      <td>...</td>\n",
       "      <td>1</td>\n",
       "      <td>0.0</td>\n",
       "      <td>3.452395</td>\n",
       "      <td>3.452395</td>\n",
       "      <td>0.0</td>\n",
       "      <td>976</td>\n",
       "      <td>976</td>\n",
       "      <td>244</td>\n",
       "      <td>7</td>\n",
       "      <td>Clean</td>\n",
       "    </tr>\n",
       "    <tr>\n",
       "      <th>2</th>\n",
       "      <td>2to3.exe</td>\n",
       "      <td>d2778164ef643ba8f44cc202ec7ef157</td>\n",
       "      <td>34404</td>\n",
       "      <td>240</td>\n",
       "      <td>35</td>\n",
       "      <td>9</td>\n",
       "      <td>0</td>\n",
       "      <td>54784</td>\n",
       "      <td>27136</td>\n",
       "      <td>0</td>\n",
       "      <td>...</td>\n",
       "      <td>0</td>\n",
       "      <td>0.0</td>\n",
       "      <td>0.000000</td>\n",
       "      <td>0.000000</td>\n",
       "      <td>0.0</td>\n",
       "      <td>0</td>\n",
       "      <td>0</td>\n",
       "      <td>0</td>\n",
       "      <td>0</td>\n",
       "      <td>Clean</td>\n",
       "    </tr>\n",
       "    <tr>\n",
       "      <th>3</th>\n",
       "      <td>32BitMAPIBroker.exe</td>\n",
       "      <td>962f4fb1f6e9d787211b0132fad6e0d5</td>\n",
       "      <td>332</td>\n",
       "      <td>224</td>\n",
       "      <td>258</td>\n",
       "      <td>12</td>\n",
       "      <td>0</td>\n",
       "      <td>72704</td>\n",
       "      <td>25088</td>\n",
       "      <td>0</td>\n",
       "      <td>...</td>\n",
       "      <td>2</td>\n",
       "      <td>0.0</td>\n",
       "      <td>3.459352</td>\n",
       "      <td>4.911615</td>\n",
       "      <td>0.0</td>\n",
       "      <td>381</td>\n",
       "      <td>900</td>\n",
       "      <td>72</td>\n",
       "      <td>7</td>\n",
       "      <td>Clean</td>\n",
       "    </tr>\n",
       "    <tr>\n",
       "      <th>4</th>\n",
       "      <td>4af598f00a2dd301100d0000cc1b341b.ShellExperien...</td>\n",
       "      <td>11c97664d7aeaebff1387f8804acd0ba</td>\n",
       "      <td>34404</td>\n",
       "      <td>240</td>\n",
       "      <td>34</td>\n",
       "      <td>14</td>\n",
       "      <td>10</td>\n",
       "      <td>1159168</td>\n",
       "      <td>843776</td>\n",
       "      <td>0</td>\n",
       "      <td>...</td>\n",
       "      <td>1</td>\n",
       "      <td>0.0</td>\n",
       "      <td>3.452395</td>\n",
       "      <td>3.452395</td>\n",
       "      <td>0.0</td>\n",
       "      <td>976</td>\n",
       "      <td>976</td>\n",
       "      <td>244</td>\n",
       "      <td>7</td>\n",
       "      <td>Clean</td>\n",
       "    </tr>\n",
       "  </tbody>\n",
       "</table>\n",
       "<p>5 rows × 57 columns</p>\n",
       "</div>"
      ],
      "text/plain": [
       "                                                Name  \\\n",
       "0          0008-64bit_Win7_Win8_Win81_Win10_R281.exe   \n",
       "1  2c6f74be8013d301f80d0000b821d42f.ShellExperien...   \n",
       "2                                           2to3.exe   \n",
       "3                                32BitMAPIBroker.exe   \n",
       "4  4af598f00a2dd301100d0000cc1b341b.ShellExperien...   \n",
       "\n",
       "                                md5  Machine  SizeOfOptionalHeader  \\\n",
       "0  571e83eda0c694f1c6634073d88ed8b6      332                   224   \n",
       "1  11c97664d7aeaebff1387f8804acd0ba    34404                   240   \n",
       "2  d2778164ef643ba8f44cc202ec7ef157    34404                   240   \n",
       "3  962f4fb1f6e9d787211b0132fad6e0d5      332                   224   \n",
       "4  11c97664d7aeaebff1387f8804acd0ba    34404                   240   \n",
       "\n",
       "   Characteristics  MajorLinkerVersion  MinorLinkerVersion  SizeOfCode  \\\n",
       "0              271                   6                   0       69632   \n",
       "1               34                  14                  10     1159168   \n",
       "2               35                   9                   0       54784   \n",
       "3              258                  12                   0       72704   \n",
       "4               34                  14                  10     1159168   \n",
       "\n",
       "   SizeOfInitializedData  SizeOfUninitializedData   ...    ResourcesNb  \\\n",
       "0                  98304                        0   ...             24   \n",
       "1                 843776                        0   ...              1   \n",
       "2                  27136                        0   ...              0   \n",
       "3                  25088                        0   ...              2   \n",
       "4                 843776                        0   ...              1   \n",
       "\n",
       "   ResourcesMeanEntropy  ResourcesMinEntropy ResourcesMaxEntropy  \\\n",
       "0                   0.0             2.058606            4.378816   \n",
       "1                   0.0             3.452395            3.452395   \n",
       "2                   0.0             0.000000            0.000000   \n",
       "3                   0.0             3.459352            4.911615   \n",
       "4                   0.0             3.452395            3.452395   \n",
       "\n",
       "   ResourcesMeanSize  ResourcesMinSize  ResourcesMaxSize  \\\n",
       "0                0.0                62             52560   \n",
       "1                0.0               976               976   \n",
       "2                0.0                 0                 0   \n",
       "3                0.0               381               900   \n",
       "4                0.0               976               976   \n",
       "\n",
       "   LoadConfigurationSize  VersionInformationSize  Status  \n",
       "0                      0                       7   Clean  \n",
       "1                    244                       7   Clean  \n",
       "2                      0                       0   Clean  \n",
       "3                     72                       7   Clean  \n",
       "4                    244                       7   Clean  \n",
       "\n",
       "[5 rows x 57 columns]"
      ]
     },
     "execution_count": 15,
     "metadata": {},
     "output_type": "execute_result"
    }
   ],
   "source": [
    "data.head()"
   ]
  },
  {
   "cell_type": "code",
   "execution_count": 16,
   "metadata": {
    "collapsed": false
   },
   "outputs": [
    {
     "data": {
      "text/plain": [
       "18564"
      ]
     },
     "execution_count": 16,
     "metadata": {},
     "output_type": "execute_result"
    }
   ],
   "source": [
    "clean = data.loc[data['Status'] == 'Clean'] \n",
    "clean.shape[0]"
   ]
  },
  {
   "cell_type": "code",
   "execution_count": 17,
   "metadata": {
    "collapsed": false
   },
   "outputs": [
    {
     "data": {
      "text/plain": [
       "20027"
      ]
     },
     "execution_count": 17,
     "metadata": {},
     "output_type": "execute_result"
    }
   ],
   "source": [
    "malicious = data.loc[data['Status'] == 'Malicious'] \n",
    "malicious.shape[0]"
   ]
  },
  {
   "cell_type": "code",
   "execution_count": 18,
   "metadata": {
    "collapsed": false,
    "scrolled": true
   },
   "outputs": [
    {
     "data": {
      "text/plain": [
       "<matplotlib.legend.Legend at 0x152acd3b080>"
      ]
     },
     "execution_count": 18,
     "metadata": {},
     "output_type": "execute_result"
    },
    {
     "data": {
      "image/png": "[encoded data removed]",
      "text/plain": [
       "<matplotlib.figure.Figure at 0x152adf74828>"
      ]
     },
     "metadata": {},
     "output_type": "display_data"
    }
   ],
   "source": [
    "# Example of an attribute with clear differences b/w clean & malicious EXEs\n",
    "\n",
    "plt.title('Sections Max Entropy: Clean vs Malicious')\n",
    "plt.hist([clean['SectionsMaxEntropy'],malicious['SectionsMaxEntropy']],\n",
    "         range = [0,8], normed=True, alpha = .6, color=[\"blue\",\"red\"], label=[\"Clean\",\"Malicious\"]);\n",
    "plt.legend(loc='upper left',fontsize = 12)"
   ]
  },
  {
   "cell_type": "code",
   "execution_count": 19,
   "metadata": {
    "collapsed": false
   },
   "outputs": [
    {
     "data": {
      "text/plain": [
       "<matplotlib.legend.Legend at 0x152acdf2c50>"
      ]
     },
     "execution_count": 19,
     "metadata": {},
     "output_type": "execute_result"
    },
    {
     "data": {
      "image/png": "[encoded data removed]",
      "text/plain": [
       "<matplotlib.figure.Figure at 0x152acd5be10>"
      ]
     },
     "metadata": {},
     "output_type": "display_data"
    }
   ],
   "source": [
    "clean[\"ResourcesMaxEntropy\"].hist(bins=50, figsize=(8,5), edgecolor='black',alpha=0.6,label='Clean')\n",
    "malicious[\"ResourcesMaxEntropy\"].hist(bins=50, figsize=(8,5), color='red', edgecolor='black', alpha=0.6,label='Malicious')\n",
    "plt.title(\"Resources Max Entropy\")\n",
    "plt.ylabel(\"Bin Count\")\n",
    "plt.xlabel(\"Value\")\n",
    "plt.legend(fontsize=12,loc=2)\n"
   ]
  },
  {
   "cell_type": "code",
   "execution_count": 30,
   "metadata": {
    "collapsed": false
   },
   "outputs": [
    {
     "data": {
      "text/plain": [
       "<matplotlib.legend.Legend at 0x152b3791fd0>"
      ]
     },
     "execution_count": 30,
     "metadata": {},
     "output_type": "execute_result"
    },
    {
     "data": {
      "image/png": "[encoded data removed]",
      "text/plain": [
       "<matplotlib.figure.Figure at 0x152b3791710>"
      ]
     },
     "metadata": {},
     "output_type": "display_data"
    }
   ],
   "source": [
    "clean[\"SectionsMaxEntropy\"].hist(bins=50, figsize=(8,5), edgecolor='black',alpha=0.6,label='Clean')\n",
    "malicious[\"SectionsMaxEntropy\"].hist(bins=50, figsize=(8,5), color='red', edgecolor='black', alpha=0.6,label='Malicious')\n",
    "plt.title(\"Sections Max Entropy\")\n",
    "plt.ylabel(\"Bin Count\")\n",
    "plt.xlabel(\"Value\")\n",
    "plt.legend(fontsize=12,loc=2)"
   ]
  },
  {
   "cell_type": "code",
   "execution_count": 33,
   "metadata": {
    "collapsed": false
   },
   "outputs": [
    {
     "data": {
      "text/plain": [
       "(0, 1000)"
      ]
     },
     "execution_count": 33,
     "metadata": {},
     "output_type": "execute_result"
    },
    {
     "data": {
      "image/png": "[encoded data removed]",
      "text/plain": [
       "<matplotlib.figure.Figure at 0x152b6b83a20>"
      ]
     },
     "metadata": {},
     "output_type": "display_data"
    }
   ],
   "source": [
    "clean[\"ImportsNb\"].hist(bins=200, figsize=(8,5), color='blue', edgecolor='black',alpha=0.6,label='Clean')\n",
    "malicious[\"ImportsNb\"].hist(bins=200, figsize=(8,5), color='red', edgecolor='black', alpha=0.6,label='Malicious')\n",
    "plt.title(\"Imports Count\")\n",
    "plt.ylabel(\"Bin Count\")\n",
    "plt.xlabel(\"Value\")\n",
    "plt.legend(fontsize=12,loc=1)\n",
    "plt.xlim(0,1000)"
   ]
  },
  {
   "cell_type": "markdown",
   "metadata": {},
   "source": [
    "**Another Approach**\n",
    "\n",
    "* Using: https://www.randhome.io/blog/2016/07/16/machine-learning-for-malware-detection/\n",
    "* http://scikit-learn.org/stable/modules/feature_selection.html#tree-based-feature-selection"
   ]
  },
  {
   "cell_type": "code",
   "execution_count": 22,
   "metadata": {
    "collapsed": false
   },
   "outputs": [],
   "source": [
    "X = data.drop(['Name','md5','Status'],axis = 1).values # remove alpha columns\n",
    "y = data['Status'].values"
   ]
  },
  {
   "cell_type": "code",
   "execution_count": 23,
   "metadata": {
    "collapsed": true
   },
   "outputs": [],
   "source": [
    "X_train, X_test, y_train, y_test = train_test_split(X, y, test_size=0.25, random_state=42)"
   ]
  },
  {
   "cell_type": "code",
   "execution_count": 24,
   "metadata": {
    "collapsed": false
   },
   "outputs": [],
   "source": [
    "rnd_clf = sklearn.ensemble.RandomForestClassifier(n_estimators=50, n_jobs = -1)\n",
    "rnd_clf.fit(X_train,y_train)\n",
    "y_pred_rf = rnd_clf.predict(X_test)"
   ]
  },
  {
   "cell_type": "code",
   "execution_count": 25,
   "metadata": {
    "collapsed": false
   },
   "outputs": [
    {
     "name": "stdout",
     "output_type": "stream",
     "text": [
      "Score: 98.89 %\n",
      "False positive rate : 1.38 %\n",
      "False negative rate : 0.86 %\n"
     ]
    }
   ],
   "source": [
    "rnd_mt = confusion_matrix(y_test, y_pred_rf)\n",
    "\n",
    "print(\"Score: %.2f %%\" % (100 * rnd_clf.score(X_test, y_test)))\n",
    "print(\"False positive rate : %.2f %%\" % ((rnd_mt[0][1] / float(sum(rnd_mt[0])))*100))\n",
    "print('False negative rate : %.2f %%' % ( (rnd_mt[1][0] / float(sum(rnd_mt[1]))*100)))"
   ]
  },
  {
   "cell_type": "code",
   "execution_count": 26,
   "metadata": {
    "collapsed": false
   },
   "outputs": [
    {
     "name": "stdout",
     "output_type": "stream",
     "text": [
      "Score: 98.66 %\n",
      "False positive rate : 1.64 %\n",
      "False negative rate : 1.05 %\n"
     ]
    }
   ],
   "source": [
    "ada_clf = AdaBoostClassifier(\n",
    "    DecisionTreeClassifier(max_depth=5),n_estimators=50,\n",
    "    algorithm=\"SAMME.R\",learning_rate=0.5)\n",
    "ada_clf.fit(X_train,y_train)\n",
    "y_pred_ada = ada_clf.predict(X_test)\n",
    "\n",
    "ada_mt = confusion_matrix(y_test, y_pred_ada)\n",
    "\n",
    "print(\"Score: %.2f %%\" % (100 * ada_clf.score(X_test, y_test)))\n",
    "print(\"False positive rate : %.2f %%\" % ((ada_mt[0][1] / float(sum(ada_mt[0])))*100))\n",
    "print('False negative rate : %.2f %%' % ( (ada_mt[1][0] / float(sum(ada_mt[1]))*100)))"
   ]
  },
  {
   "cell_type": "code",
   "execution_count": 27,
   "metadata": {
    "collapsed": false
   },
   "outputs": [
    {
     "name": "stdout",
     "output_type": "stream",
     "text": [
      "1. feature CheckSum (0.073594)\n",
      "2. feature ResourcesMaxEntropy (0.067474)\n",
      "3. feature SectionsMaxEntropy (0.065237)\n",
      "4. feature ResourcesMaxSize (0.057179)\n",
      "5. feature AddressOfEntryPoint (0.053631)\n",
      "6. feature ImportsNb (0.039703)\n",
      "7. feature ResourcesMinEntropy (0.035639)\n",
      "8. feature ImageBase (0.035196)\n",
      "9. feature SectionMaxVirtualsize (0.033554)\n",
      "10. feature SectionsMinEntropy (0.033066)\n",
      "11. feature ResourcesNb (0.032253)\n",
      "12. feature Characteristics (0.031890)\n",
      "13. feature ResourcesMinSize (0.031820)\n",
      "14. feature SizeOfImage (0.027765)\n",
      "15. feature SizeOfInitializedData (0.027555)\n",
      "16. feature MajorLinkerVersion (0.026151)\n",
      "17. feature DllCharacteristics (0.025808)\n",
      "18. feature SectionMaxRawsize (0.025286)\n",
      "19. feature SectionsMinVirtualsize (0.024182)\n",
      "20. feature ImportsNbDLL (0.023280)\n",
      "21. feature BaseOfData (0.022467)\n"
     ]
    }
   ],
   "source": [
    "# [::-1] reverses the order of the array\n",
    "# [:nb_features] grabs only the features that were selected by the classifier\n",
    "# 2+ needed b/c 0th is Name and 1st is md5\n",
    "\n",
    "model = sklearn.feature_selection.SelectFromModel(ada_clf,prefit=True)\n",
    "X_new = model.transform(X)\n",
    "X_new.shape\n",
    "\n",
    "nb_features = X_new.shape[1]\n",
    "indices = np.argsort(ada_clf.feature_importances_)[::-1][:nb_features]\n",
    "\n",
    "features = []\n",
    "\n",
    "for f in range(nb_features):\n",
    "    print(\"%d. feature %s (%f)\" %(f+1,data.columns[2+indices[f]],\n",
    "                                 ada_clf.feature_importances_[indices[f]]))"
   ]
  },
  {
   "cell_type": "code",
   "execution_count": 28,
   "metadata": {
    "collapsed": false
   },
   "outputs": [
    {
     "name": "stdout",
     "output_type": "stream",
     "text": [
      "1. feature CheckSum (0.073594)\n",
      "2. feature ResourcesMaxEntropy (0.067474)\n",
      "3. feature SectionsMaxEntropy (0.065237)\n",
      "4. feature ResourcesMaxSize (0.057179)\n",
      "5. feature AddressOfEntryPoint (0.053631)\n",
      "6. feature ImportsNb (0.039703)\n",
      "7. feature ResourcesMinEntropy (0.035639)\n",
      "8. feature ImageBase (0.035196)\n",
      "9. feature SectionMaxVirtualsize (0.033554)\n",
      "10. feature SectionsMinEntropy (0.033066)\n",
      "11. feature ResourcesNb (0.032253)\n",
      "12. feature Characteristics (0.031890)\n",
      "13. feature ResourcesMinSize (0.031820)\n",
      "14. feature SizeOfImage (0.027765)\n",
      "15. feature SizeOfInitializedData (0.027555)\n",
      "16. feature MajorLinkerVersion (0.026151)\n",
      "17. feature DllCharacteristics (0.025808)\n",
      "18. feature SectionMaxRawsize (0.025286)\n",
      "19. feature SectionsMinVirtualsize (0.024182)\n",
      "20. feature ImportsNbDLL (0.023280)\n",
      "21. feature BaseOfData (0.022467)\n",
      "22. feature SizeOfStackReserve (0.016661)\n",
      "23. feature VersionInformationSize (0.016432)\n",
      "24. feature ResourcesMeanEntropy (0.015853)\n",
      "25. feature ImportsNbOrdinal (0.013735)\n",
      "26. feature SectionsMinRawsize (0.012302)\n",
      "27. feature SectionsNb (0.011672)\n",
      "28. feature SizeOfCode (0.011351)\n",
      "29. feature MajorImageVersion (0.010819)\n",
      "30. feature MinorSubsystemVersion (0.010645)\n",
      "31. feature Subsystem (0.009887)\n",
      "32. feature LoadConfigurationSize (0.008324)\n",
      "33. feature MajorOperatingSystemVersion (0.008279)\n",
      "34. feature SectionsMeanEntropy (0.007969)\n",
      "35. feature MajorSubsystemVersion (0.006252)\n",
      "36. feature SizeOfUninitializedData (0.005822)\n",
      "37. feature SectionsMeanRawsize (0.005329)\n",
      "38. feature MinorImageVersion (0.005256)\n",
      "39. feature ResourcesMeanSize (0.005010)\n",
      "40. feature ExportNb (0.004930)\n",
      "41. feature SizeOfHeaders (0.004875)\n",
      "42. feature MinorOperatingSystemVersion (0.004844)\n",
      "43. feature MinorLinkerVersion (0.003669)\n",
      "44. feature SizeOfHeapReserve (0.001661)\n",
      "45. feature SizeOfStackCommit (0.001638)\n",
      "46. feature SectionsMeanVirtualsize (0.001275)\n",
      "47. feature FileAlignment (0.001266)\n",
      "48. feature LoaderFlags (0.001067)\n",
      "49. feature Machine (0.000437)\n",
      "50. feature BaseOfCode (0.000011)\n",
      "51. feature SizeOfOptionalHeader (0.000001)\n",
      "52. feature SectionAlignment (0.000000)\n",
      "53. feature SizeOfHeapCommit (0.000000)\n",
      "54. feature NumberOfRvaAndSizes (0.000000)\n"
     ]
    }
   ],
   "source": [
    "all_features = X.shape[1]\n",
    "indices = np.argsort(ada_clf.feature_importances_)[::-1][:all_features]\n",
    "\n",
    "features = []\n",
    "\n",
    "for f in range(all_features):\n",
    "    print(\"%d. feature %s (%f)\" %(f+1,data.columns[2+indices[f]],\n",
    "                                 ada_clf.feature_importances_[indices[f]]))\n",
    "\n",
    "for f in sorted(np.argsort(ada_clf.feature_importances_)[::-1][:all_features]):\n",
    "    features.append(data.columns[2+f])"
   ]
  },
  {
   "cell_type": "code",
   "execution_count": 29,
   "metadata": {
    "collapsed": false
   },
   "outputs": [
    {
     "data": {
      "text/plain": [
       "1273"
      ]
     },
     "execution_count": 29,
     "metadata": {},
     "output_type": "execute_result"
    }
   ],
   "source": [
    "joblib.dump(ada_clf, 'classifier.pkl')\n",
    "open('features.pkl', 'wb').write(pickle.dumps(features))"
   ]
  }
 ],
 "metadata": {
  "kernelspec": {
   "display_name": "Python 3",
   "language": "python",
   "name": "python3"
  },
  "language_info": {
   "codemirror_mode": {
    "name": "ipython",
    "version": 3
   },
   "file_extension": ".py",
   "mimetype": "text/x-python",
   "name": "python",
   "nbconvert_exporter": "python",
   "pygments_lexer": "ipython3",
   "version": "3.5.1"
  }
 },
 "nbformat": 4,
 "nbformat_minor": 0
}
